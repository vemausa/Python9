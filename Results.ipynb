{
 "metadata": {
  "name": ""
 },
 "nbformat": 3,
 "nbformat_minor": 0,
 "worksheets": [
  {
   "cells": [
    {
     "cell_type": "code",
     "collapsed": false,
     "input": [
      "import codecs\n",
      "import sqlite3"
     ],
     "language": "python",
     "metadata": {},
     "outputs": [],
     "prompt_number": 1
    },
    {
     "cell_type": "code",
     "collapsed": false,
     "input": [
      "TEMP = 125 #Temperature of Test in Celcius (C)\n",
      "EEPROM = 'B603'\n",
      "#date = ''\n",
      "test = 'Refresh2x-Burnout'\n",
      "\n",
      "SKIP = False\n",
      "NO_Response = False\n",
      "\n",
      "\n",
      "\n",
      "#convert chip number\n",
      "new_dict = {'00': '00', '01': '01', '02': '02', '03': '03', '04': '04', '05': '05', '06': '06', '07': '07', '08': '08', '09': '09', '0A': '10', '0B': '11', '0C': '12', '0D': '13', '0E': '14', '0F': '15',\n",
      "            '10': '16', '11': '17', '12': '18', '13': '19', '14': '20', '15': '21', '16': '22', '17': '23', '18': '24', '19': '25', '1A': '26', '1B': '27', '1C': '28', '1D': '29', '1E': '30', '1F': '31',\n",
      "            '20': '32', '21': '33', '22': '34', '23': '35', '24': '36', '25': '37', '26': '38', '27': '39', '28': '40', '29': '41', '2A': '42', '2B': '43', '2C': '44', '2D': '45', '2E': '46', '2F': '47',\n",
      "            '30': '48', '31': '49', '32': '50', '33': '51', '34': '52', '35': '53', '36': '54', '37': '55', '38': '56', '39': '57', '3A': '58', '3B': '59', '3C': '60', '3D': '61', '3E': '62', '3F': '63',\n",
      "            '40': '64', '41': '65', '42': '66', '43': '67', '44': '68', '45': '69', '46': '70', '47': '71', '48': '72', '49': '73', '4A': '74', '4B': '75', '4C': '76', '4D': '77', '80': '128'}\n",
      "\n",
      "\n",
      "#open the file FIRST FOR DATE\n",
      "f = codecs.open('result.txt', 'r', encoding='utf16')"
     ],
     "language": "python",
     "metadata": {},
     "outputs": [],
     "prompt_number": 2
    },
    {
     "cell_type": "code",
     "collapsed": false,
     "input": [
      "for line in f:\n",
      "        #last line of code\n",
      "        if line[0] == 'e':\n",
      "#find date\n",
      "                #split on 'is'\n",
      "                a=line.split('is ')\n",
      "                g=a[1]\n",
      "                #split on 'space'\n",
      "                x=g.split(\" \")\n",
      "                #remove spaces\n",
      "                v = x[0].replace(\" \", \"\")\n",
      "                date=str(v)\n",
      "                #print date\n",
      "#close the file after reading the lines.\n",
      "f.close()"
     ],
     "language": "python",
     "metadata": {},
     "outputs": [],
     "prompt_number": 3
    },
    {
     "cell_type": "code",
     "collapsed": false,
     "input": [
      "#open the file AGAIN FOR DATA\n",
      "f = codecs.open('result.txt', 'r', encoding='utf16')\n",
      "for line in f:    \n",
      "        #last line of code\n",
      "        if line[0] == 'e':\n",
      "                SKIP = True\n",
      "        if SKIP == False:\n",
      "#capture chip number\n",
      "                a=line.split('->')\n",
      "                z=a[1]\n",
      "                if z[0:2] == 'No':\n",
      "                        NO_Response = True\n",
      "                if NO_Response == False:\n",
      "                        chip_add = z[0:2]\n",
      "                        chip_add2 = int(new_dict[chip_add])\n",
      "                        #print chip_add2\n",
      "\n",
      "#capture burnout count\n",
      "                        c=z[4:12]\n",
      "                        burnout = int(c)\n",
      "                        if burnout < 03:\n",
      "                            SKIP = True\n",
      "                        #print burnout\n",
      "\n",
      "#put in database\n",
      "                        if SKIP == False and NO_Response == False:\n",
      "                            conn = sqlite3.connect(\"Burnout_study.db\")\n",
      "                            cur = conn.cursor()\n",
      "                            cur.execute(\"insert into Burnout values (?,?,?,?,?,?)\",(chip_add2,burnout,TEMP,date,EEPROM,test))\n",
      "                            conn.commit()\n",
      "\n",
      "#RESET VARAIABBLES\n",
      "        SKIP = False\n",
      "        NO_Response = False\n",
      "\n",
      "\n",
      "#close the file after reading the lines.\n",
      "f.close()"
     ],
     "language": "python",
     "metadata": {},
     "outputs": [
      {
       "ename": "OperationalError",
       "evalue": "no such table: Burnout",
       "output_type": "pyerr",
       "traceback": [
        "\u001b[0;31m---------------------------------------------------------------------------\u001b[0m\n\u001b[0;31mOperationalError\u001b[0m                          Traceback (most recent call last)",
        "\u001b[0;32m<ipython-input-4-4f750d019469>\u001b[0m in \u001b[0;36m<module>\u001b[0;34m()\u001b[0m\n\u001b[1;32m     27\u001b[0m                             \u001b[0mconn\u001b[0m \u001b[0;34m=\u001b[0m \u001b[0msqlite3\u001b[0m\u001b[0;34m.\u001b[0m\u001b[0mconnect\u001b[0m\u001b[0;34m(\u001b[0m\u001b[0;34m\"Burnout_study.db\"\u001b[0m\u001b[0;34m)\u001b[0m\u001b[0;34m\u001b[0m\u001b[0m\n\u001b[1;32m     28\u001b[0m                             \u001b[0mcur\u001b[0m \u001b[0;34m=\u001b[0m \u001b[0mconn\u001b[0m\u001b[0;34m.\u001b[0m\u001b[0mcursor\u001b[0m\u001b[0;34m(\u001b[0m\u001b[0;34m)\u001b[0m\u001b[0;34m\u001b[0m\u001b[0m\n\u001b[0;32m---> 29\u001b[0;31m                             \u001b[0mcur\u001b[0m\u001b[0;34m.\u001b[0m\u001b[0mexecute\u001b[0m\u001b[0;34m(\u001b[0m\u001b[0;34m\"insert into Burnout values (?,?,?,?,?,?)\"\u001b[0m\u001b[0;34m,\u001b[0m\u001b[0;34m(\u001b[0m\u001b[0mchip_add2\u001b[0m\u001b[0;34m,\u001b[0m\u001b[0mburnout\u001b[0m\u001b[0;34m,\u001b[0m\u001b[0mTEMP\u001b[0m\u001b[0;34m,\u001b[0m\u001b[0mdate\u001b[0m\u001b[0;34m,\u001b[0m\u001b[0mEEPROM\u001b[0m\u001b[0;34m,\u001b[0m\u001b[0mtest\u001b[0m\u001b[0;34m)\u001b[0m\u001b[0;34m)\u001b[0m\u001b[0;34m\u001b[0m\u001b[0m\n\u001b[0m\u001b[1;32m     30\u001b[0m                             \u001b[0mconn\u001b[0m\u001b[0;34m.\u001b[0m\u001b[0mcommit\u001b[0m\u001b[0;34m(\u001b[0m\u001b[0;34m)\u001b[0m\u001b[0;34m\u001b[0m\u001b[0m\n\u001b[1;32m     31\u001b[0m \u001b[0;34m\u001b[0m\u001b[0m\n",
        "\u001b[0;31mOperationalError\u001b[0m: no such table: Burnout"
       ]
      }
     ],
     "prompt_number": 4
    },
    {
     "cell_type": "code",
     "collapsed": false,
     "input": [
      "#create table\n",
      "conn = sqlite3.connect(\"Burnout_study.db\")\n",
      "cur = conn.cursor()\n",
      "cur.execute(\"create table Burnout (chip_name integer, B_count integer, Temp integer, date string, eeprom string, test string)\")\n",
      "conn.commit()\n",
      "\n",
      "#should add board number,date started\n",
      "\n",
      "##skip B600,B601,B602,B603,B606,B607,B604\n",
      "\n",
      "#program to add burnout counts together"
     ],
     "language": "python",
     "metadata": {},
     "outputs": [
      {
       "ename": "OperationalError",
       "evalue": "table Burnout already exists",
       "output_type": "pyerr",
       "traceback": [
        "\u001b[0;31m---------------------------------------------------------------------------\u001b[0m\n\u001b[0;31mOperationalError\u001b[0m                          Traceback (most recent call last)",
        "\u001b[0;32m<ipython-input-6-3f6490a98849>\u001b[0m in \u001b[0;36m<module>\u001b[0;34m()\u001b[0m\n\u001b[1;32m      2\u001b[0m \u001b[0mconn\u001b[0m \u001b[0;34m=\u001b[0m \u001b[0msqlite3\u001b[0m\u001b[0;34m.\u001b[0m\u001b[0mconnect\u001b[0m\u001b[0;34m(\u001b[0m\u001b[0;34m\"Burnout_study.db\"\u001b[0m\u001b[0;34m)\u001b[0m\u001b[0;34m\u001b[0m\u001b[0m\n\u001b[1;32m      3\u001b[0m \u001b[0mcur\u001b[0m \u001b[0;34m=\u001b[0m \u001b[0mconn\u001b[0m\u001b[0;34m.\u001b[0m\u001b[0mcursor\u001b[0m\u001b[0;34m(\u001b[0m\u001b[0;34m)\u001b[0m\u001b[0;34m\u001b[0m\u001b[0m\n\u001b[0;32m----> 4\u001b[0;31m \u001b[0mcur\u001b[0m\u001b[0;34m.\u001b[0m\u001b[0mexecute\u001b[0m\u001b[0;34m(\u001b[0m\u001b[0;34m\"create table Burnout (chip_name integer, B_count integer, Temp integer, date string, eeprom string, test string)\"\u001b[0m\u001b[0;34m)\u001b[0m\u001b[0;34m\u001b[0m\u001b[0m\n\u001b[0m\u001b[1;32m      5\u001b[0m \u001b[0mconn\u001b[0m\u001b[0;34m.\u001b[0m\u001b[0mcommit\u001b[0m\u001b[0;34m(\u001b[0m\u001b[0;34m)\u001b[0m\u001b[0;34m\u001b[0m\u001b[0m\n\u001b[1;32m      6\u001b[0m \u001b[0;34m\u001b[0m\u001b[0m\n",
        "\u001b[0;31mOperationalError\u001b[0m: table Burnout already exists"
       ]
      }
     ],
     "prompt_number": 6
    },
    {
     "cell_type": "code",
     "collapsed": false,
     "input": [],
     "language": "python",
     "metadata": {},
     "outputs": []
    }
   ],
   "metadata": {}
  }
 ]
}